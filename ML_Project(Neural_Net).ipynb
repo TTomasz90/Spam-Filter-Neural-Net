{
  "nbformat": 4,
  "nbformat_minor": 0,
  "metadata": {
    "colab": {
      "name": "ML_Project(Neural Net).ipynb",
      "provenance": [],
      "collapsed_sections": [],
      "toc_visible": true
    },
    "kernelspec": {
      "name": "python3",
      "display_name": "Python 3"
    },
    "accelerator": "GPU"
  },
  "cells": [
    {
      "cell_type": "code",
      "metadata": {
        "id": "uxQqQUQr5aZn",
        "colab_type": "code",
        "colab": {}
      },
      "source": [
        "\n",
        "# env imports\n",
        "from google.colab import files\n",
        "\n",
        "# main imports\n",
        "from sklearn.feature_extraction.text import TfidfVectorizer\n",
        "from sklearn.model_selection import train_test_split\n",
        "from tensorflow import keras\n",
        "\n",
        "\n",
        "# helper libraries\n",
        "import io\n",
        "import numpy as np\n",
        "import pandas as pd\n",
        "import matplotlib.pyplot as plt\n",
        "from mlxtend.plotting import plot_confusion_matrix\n",
        "\n"
      ],
      "execution_count": null,
      "outputs": []
    },
    {
      "cell_type": "markdown",
      "metadata": {
        "id": "SDWYoHjym2vs",
        "colab_type": "text"
      },
      "source": [
        "## UPLOAD DATA FILE \n",
        "\n",
        "\n",
        "I changed the encoding of the original dataset from Latin-1 to Utf-8 because python uses it as a default encoding to avoid any unforeseen errors. Download the modified dataset bellow.\n",
        "\n",
        "Link to data https://drive.google.com/open?id=13Rqh3Rt1O33UCb_yB6Hv9J28LBZx7GwZ\n",
        "\n",
        "original data source: https://www.kaggle.com/uciml/sms-spam-collection-dataset\n"
      ]
    },
    {
      "cell_type": "code",
      "metadata": {
        "id": "5G-acXBZeiHR",
        "colab_type": "code",
        "colab": {
          "resources": {
            "http://localhost:8080/nbextensions/google.colab/files.js": {
              "data": "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",
              "ok": true,
              "headers": [
                [
                  "content-type",
                  "application/javascript"
                ]
              ],
              "status": 200,
              "status_text": ""
            }
          },
          "base_uri": "https://localhost:8080/",
          "height": 71
        },
        "outputId": "604fbde7-b24b-4f5f-800b-288d616a5521"
      },
      "source": [
        "# upload data file\n",
        "uploaded = files.upload()"
      ],
      "execution_count": null,
      "outputs": [
        {
          "output_type": "display_data",
          "data": {
            "text/html": [
              "\n",
              "     <input type=\"file\" id=\"files-9df49fcb-2b80-4e35-8ef6-a2de7c16c427\" name=\"files[]\" multiple disabled />\n",
              "     <output id=\"result-9df49fcb-2b80-4e35-8ef6-a2de7c16c427\">\n",
              "      Upload widget is only available when the cell has been executed in the\n",
              "      current browser session. Please rerun this cell to enable.\n",
              "      </output>\n",
              "      <script src=\"/nbextensions/google.colab/files.js\"></script> "
            ],
            "text/plain": [
              "<IPython.core.display.HTML object>"
            ]
          },
          "metadata": {
            "tags": []
          }
        },
        {
          "output_type": "stream",
          "text": [
            "Saving spam-utf-8.csv to spam-utf-8 (1).csv\n"
          ],
          "name": "stdout"
        }
      ]
    },
    {
      "cell_type": "markdown",
      "metadata": {
        "id": "bxp_hB5UYEhU",
        "colab_type": "text"
      },
      "source": [
        "## FORMAT DATA\n",
        "\n",
        "The following snippet shows the steps I take to preprocess my data. I beguine by filtering out unnecessary fields, then renamed the columns and created two separate sets. First consisting of message bodies and second of labels reformatted to represent labels “ham” and “spam” in binary form of 0 and 1.\n"
      ]
    },
    {
      "cell_type": "code",
      "metadata": {
        "id": "nGCuFnPBad4z",
        "colab_type": "code",
        "colab": {
          "base_uri": "https://localhost:8080/",
          "height": 204
        },
        "outputId": "01ccd129-509b-4b41-dd41-3a9d36a2087c"
      },
      "source": [
        "\n",
        "# print your data\n",
        "data = pd.read_csv(io.BytesIO(uploaded['spam-utf-8.csv']))\n",
        "\n",
        "## drop unused columns\n",
        "data = data.drop([\"Unnamed: 2\", \"Unnamed: 3\", \"Unnamed: 4\"], axis=1)\n",
        "\n",
        "# rename columns labals and sms\n",
        "data = data.rename(columns={\"v1\":'label', \"v2\":'message'})\n",
        "\n",
        "# transform labels into binary format \n",
        "\n",
        "tags = {'spam': 1,'ham': 0}\n",
        "\n",
        "data.label = [tags[item] for item in data.label]\n",
        "\n",
        "# set labels\n",
        "labels = data[\"label\"]\n",
        "\n",
        "# set messages\n",
        "messages = data[\"message\"]\n",
        "\n",
        "# print data preview\n",
        "print(data.head(10))"
      ],
      "execution_count": null,
      "outputs": [
        {
          "output_type": "stream",
          "text": [
            "   label                                            message\n",
            "0      0  Go until jurong point, crazy.. Available only ...\n",
            "1      0                      Ok lar... Joking wif u oni...\n",
            "2      1  Free entry in 2 a wkly comp to win FA Cup fina...\n",
            "3      0  U dun say so early hor... U c already then say...\n",
            "4      0  Nah I don't think he goes to usf, he lives aro...\n",
            "5      1  FreeMsg Hey there darling it's been 3 week's n...\n",
            "6      0  Even my brother is not like to speak with me. ...\n",
            "7      0  As per your request 'Melle Melle (Oru Minnamin...\n",
            "8      1  WINNER!! As a valued network customer you have...\n",
            "9      1  Had your mobile 11 months or more? U R entitle...\n"
          ],
          "name": "stdout"
        }
      ]
    },
    {
      "cell_type": "markdown",
      "metadata": {
        "id": "nW8elzHcYG3l",
        "colab_type": "text"
      },
      "source": [
        "## VECTORIZE MESSAGE DATA\n",
        "\n",
        "Code modified from example in official Sklearn library Documentation: https://scikit-learn.org/stable/modules/generated/sklearn.feature_extraction.text.TfidfVectorizer.html\n",
        "\n",
        "The following snippet describes the process of turning string messages into TFIDF (term frequency–inverse document frequency) vectors with a resizable number of features. These vector representations are then stored in an array and are ready to be feed into the Neural Net.\n"
      ]
    },
    {
      "cell_type": "code",
      "metadata": {
        "id": "rheNpe0S-AAc",
        "colab_type": "code",
        "colab": {
          "base_uri": "https://localhost:8080/",
          "height": 51
        },
        "outputId": "0389515a-02ba-451c-edda-08a613262727"
      },
      "source": [
        "\n",
        "# initialize vectorizer\n",
        "vectorizer = TfidfVectorizer()\n",
        "\n",
        "# adjust number of features\n",
        "numOfFeatures = 1000\n",
        "\n",
        "# initialize vectorizer\n",
        "vectorizer = TfidfVectorizer(max_features=numOfFeatures)\n",
        "\n",
        "# vectors created from input messages\n",
        "vectors = vectorizer.fit_transform(messages).toarray()\n",
        "\n",
        "# set number of number of vectors made\n",
        "lenOfData = vectors.shape[0]\n",
        "\n",
        "# preview \n",
        "print(\" Features #\",numOfFeatures,\"\\n\",\"Data Points #\",lenOfData)\n"
      ],
      "execution_count": null,
      "outputs": [
        {
          "output_type": "stream",
          "text": [
            " Features # 1000 \n",
            " Data Points # 5572\n"
          ],
          "name": "stdout"
        }
      ]
    },
    {
      "cell_type": "markdown",
      "metadata": {
        "id": "E4HaAv0NYaTh",
        "colab_type": "text"
      },
      "source": [
        "## CREATE TRAIN/TEST DATA"
      ]
    },
    {
      "cell_type": "code",
      "metadata": {
        "id": "kTbGqIJa-6d3",
        "colab_type": "code",
        "colab": {}
      },
      "source": [
        "# Split training data set random states and test size.\n",
        "\n",
        "X_train,X_test,Y_train,Y_test = train_test_split(vectors,labels,random_state=30,test_size=0.1)"
      ],
      "execution_count": null,
      "outputs": []
    },
    {
      "cell_type": "markdown",
      "metadata": {
        "colab_type": "text",
        "id": "f9X3a2q-rgQJ"
      },
      "source": [
        "\n",
        "\n",
        "## NEURAL NET MODEL\n",
        "\n",
        "\n",
        "he following Code snippet is my TensorFlow and Keras implementation of my Neural Net. Consisting of an input layer a hidden layer and an output layer along with two dropout layers. The input shape is the size of our vector representation and the number of features we use to express our message.\n"
      ]
    },
    {
      "cell_type": "code",
      "metadata": {
        "id": "el4sqTy01nHN",
        "colab_type": "code",
        "colab": {
          "base_uri": "https://localhost:8080/",
          "height": 323
        },
        "outputId": "f798a0ae-b5d1-4151-ea33-ced157aa80b8"
      },
      "source": [
        "# keras model\n",
        "\n",
        "model = keras.models.Sequential()\n",
        "\n",
        "# Dense interconected layer \n",
        "model.add(keras.layers.Dense(500,activation='sigmoid',input_shape=(numOfFeatures,)))\n",
        "\n",
        "# Dropout to prevent overfitting\n",
        "model.add(keras.layers.Dropout(0.3, input_shape=(numOfFeatures,)))\n",
        "\n",
        "# Dense interconected layer \n",
        "model.add(keras.layers.Dense(250,activation='sigmoid'))\n",
        "\n",
        "# Dropout to prevent overfitting\n",
        "model.add(keras.layers.Dropout(0.4, input_shape=(numOfFeatures,)))\n",
        "\n",
        "# use sigmoid for binary output\n",
        "model.add(keras.layers.Dense(1,activation='sigmoid'))\n",
        "\n",
        "model.compile(optimizer='adam', loss='binary_crossentropy', metrics=['accuracy'])\n",
        "\n",
        "model.summary()"
      ],
      "execution_count": null,
      "outputs": [
        {
          "output_type": "stream",
          "text": [
            "Model: \"sequential_1\"\n",
            "_________________________________________________________________\n",
            "Layer (type)                 Output Shape              Param #   \n",
            "=================================================================\n",
            "dense_3 (Dense)              (None, 500)               500500    \n",
            "_________________________________________________________________\n",
            "dropout_2 (Dropout)          (None, 500)               0         \n",
            "_________________________________________________________________\n",
            "dense_4 (Dense)              (None, 250)               125250    \n",
            "_________________________________________________________________\n",
            "dropout_3 (Dropout)          (None, 250)               0         \n",
            "_________________________________________________________________\n",
            "dense_5 (Dense)              (None, 1)                 251       \n",
            "=================================================================\n",
            "Total params: 626,001\n",
            "Trainable params: 626,001\n",
            "Non-trainable params: 0\n",
            "_________________________________________________________________\n"
          ],
          "name": "stdout"
        }
      ]
    },
    {
      "cell_type": "markdown",
      "metadata": {
        "id": "O7Qmjlw2DqSZ",
        "colab_type": "text"
      },
      "source": [
        "## TRAIN MODEL"
      ]
    },
    {
      "cell_type": "code",
      "metadata": {
        "id": "iKDwlGUGDs7p",
        "colab_type": "code",
        "colab": {
          "base_uri": "https://localhost:8080/",
          "height": 394
        },
        "outputId": "23134b7a-c3ca-4326-e196-c1c77fbd27b0"
      },
      "source": [
        "trainedModel = model.fit(X_train, Y_train, epochs=10,batch_size=50, validation_split=0.3)"
      ],
      "execution_count": null,
      "outputs": [
        {
          "output_type": "stream",
          "text": [
            "Train on 3509 samples, validate on 1505 samples\n",
            "Epoch 1/10\n",
            "3509/3509 [==============================] - 1s 161us/sample - loss: 0.4490 - acc: 0.8541 - val_loss: 0.3912 - val_acc: 0.8591\n",
            "Epoch 2/10\n",
            "3509/3509 [==============================] - 0s 111us/sample - loss: 0.3801 - acc: 0.8652 - val_loss: 0.3532 - val_acc: 0.8591\n",
            "Epoch 3/10\n",
            "3509/3509 [==============================] - 0s 119us/sample - loss: 0.3064 - acc: 0.8720 - val_loss: 0.2243 - val_acc: 0.8711\n",
            "Epoch 4/10\n",
            "3509/3509 [==============================] - 0s 110us/sample - loss: 0.1689 - acc: 0.9399 - val_loss: 0.1167 - val_acc: 0.9568\n",
            "Epoch 5/10\n",
            "3509/3509 [==============================] - 0s 106us/sample - loss: 0.0995 - acc: 0.9667 - val_loss: 0.0781 - val_acc: 0.9787\n",
            "Epoch 6/10\n",
            "3509/3509 [==============================] - 0s 119us/sample - loss: 0.0715 - acc: 0.9801 - val_loss: 0.0910 - val_acc: 0.9728\n",
            "Epoch 7/10\n",
            "3509/3509 [==============================] - 0s 111us/sample - loss: 0.0571 - acc: 0.9801 - val_loss: 0.0614 - val_acc: 0.9821\n",
            "Epoch 8/10\n",
            "3509/3509 [==============================] - 0s 110us/sample - loss: 0.0505 - acc: 0.9829 - val_loss: 0.0680 - val_acc: 0.9821\n",
            "Epoch 9/10\n",
            "3509/3509 [==============================] - 0s 112us/sample - loss: 0.0446 - acc: 0.9858 - val_loss: 0.0645 - val_acc: 0.9827\n",
            "Epoch 10/10\n",
            "3509/3509 [==============================] - 0s 111us/sample - loss: 0.0399 - acc: 0.9849 - val_loss: 0.0618 - val_acc: 0.9834\n"
          ],
          "name": "stdout"
        }
      ]
    },
    {
      "cell_type": "markdown",
      "metadata": {
        "id": "-3gUyvXKD3FH",
        "colab_type": "text"
      },
      "source": [
        "## EVALUATION\n"
      ]
    },
    {
      "cell_type": "code",
      "metadata": {
        "id": "GzZipPJeKahw",
        "colab_type": "code",
        "colab": {
          "base_uri": "https://localhost:8080/",
          "height": 436
        },
        "outputId": "9dbfa7a5-f19f-4a83-e19d-cf4651efa0ce"
      },
      "source": [
        "from sklearn.metrics import classification_report,confusion_matrix\n",
        "\n",
        "# get list of predictions from test messages\n",
        "allPredictions = model.predict_classes(X_test)\n",
        "\n",
        "# labels for binary output.\n",
        "targetNames = ['Not Spam \"0\"', 'Spam \"1\"']\n",
        "\n",
        "# classification report\n",
        "print(classification_report(Y_test,allPredictions,target_names=targetNames))\n",
        "\n",
        "# get confusion Matrix\n",
        "confusionMatrix = confusion_matrix(Y_test,allPredictions)\n",
        "\n",
        "# display confusion Matrix\n",
        "binary = np.array(confusionMatrix)\n",
        "\n",
        "labels = ['NOT SPAM', 'SPAM']\n",
        "fig, ax = plot_confusion_matrix(conf_mat=binary,\n",
        "                                show_absolute=True,\n",
        "                                show_normed=True,\n",
        "                                colorbar=True,)\n",
        "\n",
        "plt.show()\n"
      ],
      "execution_count": null,
      "outputs": [
        {
          "output_type": "stream",
          "text": [
            "              precision    recall  f1-score   support\n",
            "\n",
            "Not Spam \"0\"       0.99      1.00      0.99       497\n",
            "    Spam \"1\"       0.96      0.90      0.93        61\n",
            "\n",
            "    accuracy                           0.99       558\n",
            "   macro avg       0.98      0.95      0.96       558\n",
            "weighted avg       0.99      0.99      0.99       558\n",
            "\n"
          ],
          "name": "stdout"
        },
        {
          "output_type": "display_data",
          "data": {
            "image/png": "[encoded data removed]",
            "text/plain": [
              "<Figure size 432x288 with 2 Axes>"
            ]
          },
          "metadata": {
            "tags": []
          }
        }
      ]
    },
    {
      "cell_type": "markdown",
      "metadata": {
        "id": "FlSOoNkahUKU",
        "colab_type": "text"
      },
      "source": [
        "## TRAINING LOSS VS VALIDATION LOSS\n",
        "\n",
        "If your training loss much smaller then validation loss then network overfitting occurs. Solutions to this is to decrease your network size, or to increase dropout. I Increased dropout by 0.1 in each layer and also shortened epochs from 20 to 10 to prevent further overfitting."
      ]
    },
    {
      "cell_type": "code",
      "metadata": {
        "id": "eFFd0iHuU5cC",
        "colab_type": "code",
        "colab": {
          "base_uri": "https://localhost:8080/",
          "height": 295
        },
        "outputId": "95c6a1dd-b226-4f53-c3ef-078e74a944ba"
      },
      "source": [
        "# Training loss vs validation loss graph\n",
        "\n",
        "trainLoss = trainedModel.history['loss']\n",
        "valLoss = trainedModel.history['val_loss']\n",
        "\n",
        "epochs = range(1,11)\n",
        "\n",
        "plt.title('TRAINING VS VALIDATION LOSS')\n",
        "plt.xlabel('EPOCH')\n",
        "plt.ylabel('LOSS')\n",
        "\n",
        "plt.plot(epochs,trainLoss,label='Training loss')\n",
        "plt.plot(epochs,valLoss,label='validation loss')\n",
        "\n",
        "plt.legend()\n",
        "plt.show()"
      ],
      "execution_count": null,
      "outputs": [
        {
          "output_type": "display_data",
          "data": {
            "image/png": "[encoded data removed]",
            "text/plain": [
              "<Figure size 432x288 with 1 Axes>"
            ]
          },
          "metadata": {
            "tags": []
          }
        }
      ]
    },
    {
      "cell_type": "code",
      "metadata": {
        "id": "QYPm4wd-WI4i",
        "colab_type": "code",
        "colab": {
          "base_uri": "https://localhost:8080/",
          "height": 295
        },
        "outputId": "a69185d2-fd84-40bd-9cd2-13989a01b849"
      },
      "source": [
        "# Training accuracy vs validation accuracy graph\n",
        "\n",
        "accValues = trainedModel.history['acc']\n",
        "valAccalues = trainedModel.history['val_acc']\n",
        "\n",
        "plt.title('TRAINING ACCURACY VS VALIDATION ACCURACY')\n",
        "plt.xlabel('EPOCH')\n",
        "plt.ylabel('LOSS')\n",
        "\n",
        "plt.plot(epochs,accValues,label='Training accuracy')\n",
        "plt.plot(epochs,valAccalues,label='Validation accuracy')\n",
        "\n",
        "plt.legend()\n",
        "plt.show()"
      ],
      "execution_count": null,
      "outputs": [
        {
          "output_type": "display_data",
          "data": {
            "image/png": "[encoded data removed]",
            "text/plain": [
              "<Figure size 432x288 with 1 Axes>"
            ]
          },
          "metadata": {
            "tags": []
          }
        }
      ]
    },
    {
      "cell_type": "code",
      "metadata": {
        "id": "KX1KUiKXc4pV",
        "colab_type": "code",
        "colab": {
          "base_uri": "https://localhost:8080/",
          "height": 295
        },
        "outputId": "4a23c4f0-e263-440a-af1b-ff9551e86387"
      },
      "source": [
        "from sklearn.metrics import roc_curve\n",
        "from sklearn.metrics import auc\n",
        "\n",
        "# Compute ROC Curve based on  fpr, tpr, thresholds and auc \n",
        "\n",
        "plt.title('ROC CURVE')\n",
        "plt.xlabel('FALSE POSITIVE')\n",
        "plt.ylabel('TRUE POSITIVE')\n",
        "\n",
        "fpr, tpr, thresholds = roc_curve(allPredictions, Y_test, pos_label=1)\n",
        "\n",
        "roc_auc = auc(fpr, tpr)\n",
        "\n",
        "plt.plot(fpr,tpr)\n",
        "plt.plot([0,1],[0,1])\n",
        "plt.show() "
      ],
      "execution_count": null,
      "outputs": [
        {
          "output_type": "display_data",
          "data": {
            "image/png": "[encoded data removed]",
            "text/plain": [
              "<Figure size 432x288 with 1 Axes>"
            ]
          },
          "metadata": {
            "tags": []
          }
        }
      ]
    },
    {
      "cell_type": "markdown",
      "metadata": {
        "id": "8ZcjiBU5EGA5",
        "colab_type": "text"
      },
      "source": [
        "## TEST CUSTOM PREDICTIONS\n",
        "Function tests your own messages against the Neural Network Model\n",
        "\n",
        "Input your own test \"SMS\" messages to test.\n",
        "\n"
      ]
    },
    {
      "cell_type": "code",
      "metadata": {
        "id": "ciB8nd2BEK2l",
        "colab_type": "code",
        "colab": {}
      },
      "source": [
        "# function for testing custom messages against the trained model\n",
        "\n",
        "def testNN_Model(model,message):\n",
        "  \n",
        "  vector = vectorizer.transform([message]).toarray()\n",
        "  \n",
        "  prediction = model.predict_classes(vector)\n",
        "  \n",
        "  if prediction == 1:\n",
        "    \n",
        "    print(\"SPAM\")\n",
        "    \n",
        "  else:\n",
        "    \n",
        "    print(\"NOT SPAM\")"
      ],
      "execution_count": null,
      "outputs": []
    },
    {
      "cell_type": "code",
      "metadata": {
        "id": "F0xXJQ1OENiG",
        "colab_type": "code",
        "colab": {
          "base_uri": "https://localhost:8080/",
          "height": 51
        },
        "outputId": "ff095972-ce63-4a36-f832-483f77869a4f"
      },
      "source": [
        "\n",
        "\n",
        "## Test classifier Neural Net on custom messages\n",
        "\n",
        "messageInput =  \"Your family won a amazing trip to las vegas text 4567 to claim your prize now\"\n",
        "\n",
        "messageInput2 =  \"Can you buy me doritos on your way home.\"\n",
        "\n",
        "testNN_Model(model,messageInput)\n",
        "\n",
        "testNN_Model(model,messageInput2)\n"
      ],
      "execution_count": null,
      "outputs": [
        {
          "output_type": "stream",
          "text": [
            "SPAM\n",
            "NOT SPAM\n"
          ],
          "name": "stdout"
        }
      ]
    }
  ]
}